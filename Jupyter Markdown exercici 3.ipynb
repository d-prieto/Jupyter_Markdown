{
 "cells": [
  {
   "cell_type": "markdown",
   "id": "3be2f8d7",
   "metadata": {},
   "source": [
    "# Test of Markdown\n",
    "\n",
    "This is plain text\n",
    "\n",
    "***\n",
    "\n",
    "This **bold** text *this is italic* text. I like to say that it's kind of *emphasys* or *sacarsm* text\n",
    "\n",
    "---\n",
    "\n"
   ]
  },
  {
   "cell_type": "markdown",
   "id": "c072ae1c",
   "metadata": {},
   "source": [
    "Now let's try some emoji :+1:"
   ]
  },
  {
   "cell_type": "markdown",
   "id": "4634797f",
   "metadata": {},
   "source": [
    "This is a link: https://docs.github.com/en/github/writing-on-github/getting-started-with-writing-and-formatting-on-github/basic-writing-and-formatting-syntax#using-emoji\n",
    "\n",
    "And this is the [link](https://docs.github.com/en/github/writing-on-github/getting-started-with-writing-and-formatting-on-github/basic-writing-and-formatting-syntax#using-emoji) in another way\n"
   ]
  },
  {
   "cell_type": "markdown",
   "id": "a9d36fc5",
   "metadata": {},
   "source": [
    "The emoji doesn't work in my local jupyter. \n",
    "\n",
    "Now let's try the image that proves it:\n",
    "\n",
    "![](Captura01.JPG)"
   ]
  },
  {
   "cell_type": "markdown",
   "id": "bb1e0cf5",
   "metadata": {},
   "source": [
    "At least the image works. Now let's try to upload it into the github"
   ]
  }
 ],
 "metadata": {
  "kernelspec": {
   "display_name": "Python 3",
   "language": "python",
   "name": "python3"
  },
  "language_info": {
   "codemirror_mode": {
    "name": "ipython",
    "version": 3
   },
   "file_extension": ".py",
   "mimetype": "text/x-python",
   "name": "python",
   "nbconvert_exporter": "python",
   "pygments_lexer": "ipython3",
   "version": "3.8.8"
  }
 },
 "nbformat": 4,
 "nbformat_minor": 5
}
