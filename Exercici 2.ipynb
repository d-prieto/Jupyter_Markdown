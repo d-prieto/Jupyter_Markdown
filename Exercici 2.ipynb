{
 "cells": [
  {
   "cell_type": "markdown",
   "id": "47f9ec7c",
   "metadata": {},
   "source": [
    "# First Exercise\n",
    "\n",
    "This is an exercis where I put some easy calculations to python to make"
   ]
  },
  {
   "cell_type": "code",
   "execution_count": 1,
   "id": "382c480e",
   "metadata": {},
   "outputs": [
    {
     "data": {
      "text/plain": [
       "7"
      ]
     },
     "execution_count": 1,
     "metadata": {},
     "output_type": "execute_result"
    }
   ],
   "source": [
    "3+4"
   ]
  },
  {
   "cell_type": "code",
   "execution_count": 2,
   "id": "5d29a154",
   "metadata": {},
   "outputs": [
    {
     "data": {
      "text/plain": [
       "0.8333333333333334"
      ]
     },
     "execution_count": 2,
     "metadata": {},
     "output_type": "execute_result"
    }
   ],
   "source": [
    "5/6"
   ]
  },
  {
   "cell_type": "code",
   "execution_count": 3,
   "id": "4400d8c1",
   "metadata": {},
   "outputs": [
    {
     "data": {
      "text/plain": [
       "0"
      ]
     },
     "execution_count": 3,
     "metadata": {},
     "output_type": "execute_result"
    }
   ],
   "source": [
    "5//6"
   ]
  },
  {
   "cell_type": "markdown",
   "id": "37aebb89",
   "metadata": {},
   "source": [
    "I like the difference between a/b and a//b "
   ]
  },
  {
   "cell_type": "code",
   "execution_count": 4,
   "id": "0f7785f3",
   "metadata": {},
   "outputs": [
    {
     "data": {
      "text/plain": [
       "9"
      ]
     },
     "execution_count": 4,
     "metadata": {},
     "output_type": "execute_result"
    }
   ],
   "source": [
    "3*3"
   ]
  },
  {
   "cell_type": "code",
   "execution_count": 5,
   "id": "211115e7",
   "metadata": {},
   "outputs": [
    {
     "data": {
      "text/plain": [
       "27"
      ]
     },
     "execution_count": 5,
     "metadata": {},
     "output_type": "execute_result"
    }
   ],
   "source": [
    "3**3"
   ]
  },
  {
   "cell_type": "markdown",
   "id": "7731a01f",
   "metadata": {},
   "source": [
    "I like that we don't need \"power\" in python"
   ]
  },
  {
   "cell_type": "code",
   "execution_count": 7,
   "id": "44c4d642",
   "metadata": {},
   "outputs": [
    {
     "data": {
      "text/plain": [
       "-9000"
      ]
     },
     "execution_count": 7,
     "metadata": {},
     "output_type": "execute_result"
    }
   ],
   "source": [
    "1000-10000"
   ]
  },
  {
   "cell_type": "code",
   "execution_count": 8,
   "id": "5fa4285c",
   "metadata": {},
   "outputs": [
    {
     "data": {
      "text/plain": [
       "-44997"
      ]
     },
     "execution_count": 8,
     "metadata": {},
     "output_type": "execute_result"
    }
   ],
   "source": [
    "-900*50+3"
   ]
  },
  {
   "cell_type": "code",
   "execution_count": 9,
   "id": "83eed134",
   "metadata": {},
   "outputs": [
    {
     "data": {
      "text/plain": [
       "100000000000"
      ]
     },
     "execution_count": 9,
     "metadata": {},
     "output_type": "execute_result"
    }
   ],
   "source": [
    "10*10**10"
   ]
  },
  {
   "cell_type": "code",
   "execution_count": 10,
   "id": "ba2b11fc",
   "metadata": {},
   "outputs": [
    {
     "data": {
      "text/plain": [
       "16"
      ]
     },
     "execution_count": 10,
     "metadata": {},
     "output_type": "execute_result"
    }
   ],
   "source": [
    "2*2**3"
   ]
  },
  {
   "cell_type": "code",
   "execution_count": 12,
   "id": "0b4fcdc4",
   "metadata": {},
   "outputs": [
    {
     "data": {
      "text/plain": [
       "16"
      ]
     },
     "execution_count": 12,
     "metadata": {},
     "output_type": "execute_result"
    }
   ],
   "source": [
    "2*2**(2+1)"
   ]
  },
  {
   "cell_type": "markdown",
   "id": "ab0ad8af",
   "metadata": {},
   "source": [
    "Those were test of comounding operations. Seems that woks as I think it would. Yay for that"
   ]
  },
  {
   "cell_type": "code",
   "execution_count": null,
   "id": "877fb47a",
   "metadata": {},
   "outputs": [],
   "source": []
  }
 ],
 "metadata": {
  "kernelspec": {
   "display_name": "Python 3",
   "language": "python",
   "name": "python3"
  },
  "language_info": {
   "codemirror_mode": {
    "name": "ipython",
    "version": 3
   },
   "file_extension": ".py",
   "mimetype": "text/x-python",
   "name": "python",
   "nbconvert_exporter": "python",
   "pygments_lexer": "ipython3",
   "version": "3.8.8"
  }
 },
 "nbformat": 4,
 "nbformat_minor": 5
}
