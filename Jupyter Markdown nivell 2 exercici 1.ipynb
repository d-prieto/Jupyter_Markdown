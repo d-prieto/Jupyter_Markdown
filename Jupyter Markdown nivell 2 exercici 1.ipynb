{
 "cells": [
  {
   "cell_type": "markdown",
   "id": "3be2f8d7",
   "metadata": {},
   "source": [
    "# Test of Markdown\n",
    "\n",
    "This is plain text\n",
    "\n",
    "***\n",
    "\n",
    "This **bold** text *this is italic* text. I like to say that it's kind of *emphasys* or *sacarsm* text\n",
    "\n",
    "---\n",
    "\n"
   ]
  },
  {
   "cell_type": "markdown",
   "id": "c072ae1c",
   "metadata": {},
   "source": [
    "Now let's try some emoji :+1:"
   ]
  },
  {
   "cell_type": "markdown",
   "id": "4634797f",
   "metadata": {},
   "source": [
    "This is a link: https://docs.github.com/en/github/writing-on-github/getting-started-with-writing-and-formatting-on-github/basic-writing-and-formatting-syntax#using-emoji\n",
    "\n",
    "And this is the [link](https://docs.github.com/en/github/writing-on-github/getting-started-with-writing-and-formatting-on-github/basic-writing-and-formatting-syntax#using-emoji) in another way\n"
   ]
  },
  {
   "cell_type": "markdown",
   "id": "a9d36fc5",
   "metadata": {},
   "source": [
    "The emoji doesn't work in my local jupyter. \n",
    "\n",
    "Now let's try the image that proves it:\n",
    "\n",
    "![](Captura01.JPG)"
   ]
  },
  {
   "cell_type": "markdown",
   "id": "bb1e0cf5",
   "metadata": {},
   "source": [
    "At least the image works. Now let's try to upload it into the github\n",
    "\n",
    "It _does_ work if you put the link properly and you upload also the image. I tried to use imgur or imageshack but they require to login and/or pay. So I'll stick with upload capturaXX.JPG to the repositories. \n",
    "\n",
    "## Exporting\n",
    "\n",
    "Exporting to HTML is easy (file -> download as -> html)\n",
    "\n",
    "Exporting to pdf is being more tricky. I have this error:"
   ]
  },
  {
   "cell_type": "markdown",
   "id": "e3c2c2a3",
   "metadata": {},
   "source": [
    "```\n",
    "\n",
    "500 : Internal Server Error\n",
    "\n",
    "The error was:\n",
    "\n",
    "nbconvert failed: xelatex not found on PATH, if you have not installed xelatex you may need to do so. Find further instructions at https://nbconvert.readthedocs.io/en/latest/install.html#installing-tex.\n",
    "\n",
    "\n",
    "\n",
    "```"
   ]
  },
  {
   "cell_type": "markdown",
   "id": "2e698a57",
   "metadata": {},
   "source": [
    "So I go to the page of miktext to instal xelatex, [here](https://miktex.org/download) and install something more... sigh.\n",
    "\n",
    "And it doesn't work because miktext doesn't install xelatex so it gets the same result. I'm not going to install more outside things. So no pdf for now. If I _really_ need them I'll install them later. \n"
   ]
  },
  {
   "cell_type": "code",
   "execution_count": null,
   "id": "a879dcdc",
   "metadata": {},
   "outputs": [],
   "source": []
  }
 ],
 "metadata": {
  "kernelspec": {
   "display_name": "Python 3",
   "language": "python",
   "name": "python3"
  },
  "language_info": {
   "codemirror_mode": {
    "name": "ipython",
    "version": 3
   },
   "file_extension": ".py",
   "mimetype": "text/x-python",
   "name": "python",
   "nbconvert_exporter": "python",
   "pygments_lexer": "ipython3",
   "version": "3.8.8"
  }
 },
 "nbformat": 4,
 "nbformat_minor": 5
}
